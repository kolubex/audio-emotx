{
 "cells": [
  {
   "cell_type": "code",
   "execution_count": 4,
   "metadata": {},
   "outputs": [
    {
     "name": "stdout",
     "output_type": "stream",
     "text": [
      "[3.2415, 6.432, 9.1225, 12.042, 15.212]\n",
      "torch.Size([5, 768])\n"
     ]
    }
   ],
   "source": [
    "import pickle\n",
    "# with open(\"/scratch/kolubex_emotx_run/data/srt_feats/concat/finetuned_t10/tt0037884/scene-050.ss-0167.es-0167.pkl\", 'rb') as f:\n",
    "with open(\"/scratch/kolubex_emotx_run/data/srt_feats/independent/finetuned_t10/tt0037884/scene-050.ss-0167.es-0167.pkl\", 'rb') as f:\n",
    "    time = pickle.load(f)\n",
    "    feats = pickle.load(f)\n",
    "\n",
    "print(time)\n",
    "print(feats.shape)"
   ]
  },
  {
   "cell_type": "code",
   "execution_count": 2,
   "metadata": {},
   "outputs": [
    {
     "name": "stdout",
     "output_type": "stream",
     "text": [
      "(1, 768, 346)\n",
      "(346, 768)\n"
     ]
    }
   ],
   "source": [
    "import numpy as np\n",
    "\n",
    "with open(\"/ssd_scratch/cvit/kolubex/data/audio_feats/pretrained/tt0212338/scene-001.ss-0001.es-0013/scene-001.ss-0001.es-0013.npy\", 'rb') as f:\n",
    "    a = np.load(f)\n",
    "    print(a.shape)\n",
    "    a = np.squeeze(a, axis=0)\n",
    "    a = a.transpose((1, 0))\n",
    "    print(a.shape)"
   ]
  },
  {
   "cell_type": "code",
   "execution_count": 3,
   "metadata": {},
   "outputs": [
    {
     "name": "stdout",
     "output_type": "stream",
     "text": [
      "[0.32333333 0.65666667 0.99       1.32333333 1.65666667 1.99\n",
      " 2.32333333 2.65666667 2.99      ]\n"
     ]
    }
   ],
   "source": [
    "import numpy as np\n",
    "a = (np.arange(1, 10))*1/3\n",
    "a = a - 0.01\n",
    "print(a)"
   ]
  },
  {
   "cell_type": "code",
   "execution_count": 21,
   "metadata": {},
   "outputs": [
    {
     "name": "stdout",
     "output_type": "stream",
     "text": [
      "173\n"
     ]
    }
   ],
   "source": [
    "# this code is to check if all folders that are in /ssd_scratch/cvit/kolubex/data/srt_feats/finetuned_10/ are also in /ssd_scratch/cvit/kolubex/data/audio_feats/pretrained/ or not\n",
    "# if not then print the folder name\n",
    "# use glob and os\n",
    "import glob\n",
    "import os\n",
    "\n",
    "path = \"/ssd_scratch/cvit/kolubex/data/srt_feats/concat/finetuned_t10/\"\n",
    "checking_path = \"/ssd_scratch/cvit/kolubex/data/audio_feats/pretrained/\"\n",
    "# folders = glob.glob(path+\"*\")\n",
    "folders = ['tt1568346']\n",
    "missing_folders = {}\n",
    "for folder in folders:\n",
    "    folder_name = folder.split(\"/\")[-1]\n",
    "    sub_folders = glob.glob(path+folder_name+\"/*\")\n",
    "    for sub_folder in sub_folders:\n",
    "        sub_folder_name = sub_folder.split(\"/\")[-1]\n",
    "        sub_folder_name = sub_folder_name[:-4]\n",
    "        # now check if folder/sub_folder_name is in path checking_path or not\n",
    "        if not os.path.exists(checking_path+folder_name+\"/\"+sub_folder_name):\n",
    "            # add the sub_folder_name to missing_folders with the key as folder_name\n",
    "            if folder_name not in missing_folders:\n",
    "                missing_folders[folder_name] = [sub_folder_name]\n",
    "            else:\n",
    "                missing_folders[folder_name].append(sub_folder_name)\n",
    "            # print(folder_name + \"/\" + sub_folder_name)\n",
    "print(len(missing_folders[\"tt1568346\"]))\n",
    "# print(len(folders))"
   ]
  },
  {
   "cell_type": "code",
   "execution_count": 22,
   "metadata": {},
   "outputs": [
    {
     "name": "stdout",
     "output_type": "stream",
     "text": [
      "1\n",
      "173\n"
     ]
    }
   ],
   "source": [
    "print(len(missing_folders.keys()))\n",
    "for key in missing_folders.keys():\n",
    "    print(len(missing_folders[key]))"
   ]
  }
 ],
 "metadata": {
  "kernelspec": {
   "display_name": "emotx",
   "language": "python",
   "name": "python3"
  },
  "language_info": {
   "codemirror_mode": {
    "name": "ipython",
    "version": 3
   },
   "file_extension": ".py",
   "mimetype": "text/x-python",
   "name": "python",
   "nbconvert_exporter": "python",
   "pygments_lexer": "ipython3",
   "version": "3.6.13"
  },
  "orig_nbformat": 4
 },
 "nbformat": 4,
 "nbformat_minor": 2
}
