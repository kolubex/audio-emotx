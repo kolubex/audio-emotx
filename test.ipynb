{
 "cells": [
  {
   "cell_type": "code",
   "execution_count": 4,
   "metadata": {},
   "outputs": [
    {
     "name": "stdout",
     "output_type": "stream",
     "text": [
      "[3.2415, 6.432, 9.1225, 12.042, 15.212]\n",
      "torch.Size([5, 768])\n"
     ]
    }
   ],
   "source": [
    "import pickle\n",
    "# with open(\"/scratch/kolubex_emotx_run/data/srt_feats/concat/finetuned_t10/tt0037884/scene-050.ss-0167.es-0167.pkl\", 'rb') as f:\n",
    "with open(\"/scratch/kolubex_emotx_run/data/srt_feats/independent/finetuned_t10/tt0037884/scene-050.ss-0167.es-0167.pkl\", 'rb') as f:\n",
    "    time = pickle.load(f)\n",
    "    feats = pickle.load(f)\n",
    "\n",
    "print(time)\n",
    "print(feats.shape)"
   ]
  },
  {
   "cell_type": "code",
   "execution_count": 2,
   "metadata": {},
   "outputs": [
    {
     "name": "stdout",
     "output_type": "stream",
     "text": [
      "(1, 768, 346)\n",
      "(346, 768)\n"
     ]
    }
   ],
   "source": [
    "import numpy as np\n",
    "\n",
    "with open(\"/ssd_scratch/cvit/kolubex/data/audio_feats/pretrained/tt0212338/scene-001.ss-0001.es-0013/scene-001.ss-0001.es-0013.npy\", 'rb') as f:\n",
    "    a = np.load(f)\n",
    "    print(a.shape)\n",
    "    a = np.squeeze(a, axis=0)\n",
    "    a = a.transpose((1, 0))\n",
    "    print(a.shape)"
   ]
  }
 ],
 "metadata": {
  "kernelspec": {
   "display_name": "emotx",
   "language": "python",
   "name": "python3"
  },
  "language_info": {
   "codemirror_mode": {
    "name": "ipython",
    "version": 3
   },
   "file_extension": ".py",
   "mimetype": "text/x-python",
   "name": "python",
   "nbconvert_exporter": "python",
   "pygments_lexer": "ipython3",
   "version": "3.6.13"
  },
  "orig_nbformat": 4
 },
 "nbformat": 4,
 "nbformat_minor": 2
}
