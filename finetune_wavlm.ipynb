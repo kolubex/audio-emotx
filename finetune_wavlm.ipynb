{
 "cells": [
  {
   "cell_type": "code",
   "execution_count": 1,
   "metadata": {},
   "outputs": [],
   "source": [
    "import torch\n",
    "import numpy as np\n",
    "import torch.nn as nn\n",
    "import torch.nn.functional as F"
   ]
  },
  {
   "cell_type": "code",
   "execution_count": 2,
   "metadata": {},
   "outputs": [
    {
     "name": "stderr",
     "output_type": "stream",
     "text": [
      "/home2/kolubex/.miniconda3/lib/python3.10/site-packages/tqdm/auto.py:21: TqdmWarning: IProgress not found. Please update jupyter and ipywidgets. See https://ipywidgets.readthedocs.io/en/stable/user_install.html\n",
      "  from .autonotebook import tqdm as notebook_tqdm\n"
     ]
    },
    {
     "name": "stdout",
     "output_type": "stream",
     "text": [
      "input shape: torch.Size([1, 320000])\n",
      "output: torch.Size([1, 999, 512])\n"
     ]
    },
    {
     "ename": "UnboundLocalError",
     "evalue": "local variable 'x' referenced before assignment",
     "output_type": "error",
     "traceback": [
      "\u001b[0;31m---------------------------------------------------------------------------\u001b[0m",
      "\u001b[0;31mUnboundLocalError\u001b[0m                         Traceback (most recent call last)",
      "Cell \u001b[0;32mIn[2], line 65\u001b[0m\n\u001b[1;32m     63\u001b[0m \u001b[39minput\u001b[39m \u001b[39m=\u001b[39m processor(\u001b[39minput\u001b[39m, return_tensors\u001b[39m=\u001b[39m\u001b[39m\"\u001b[39m\u001b[39mpt\u001b[39m\u001b[39m\"\u001b[39m, padding\u001b[39m=\u001b[39m\u001b[39mTrue\u001b[39;00m, sampling_rate\u001b[39m=\u001b[39m\u001b[39m16000\u001b[39m)\u001b[39m.\u001b[39minput_values\u001b[39m.\u001b[39mto(\u001b[39m'\u001b[39m\u001b[39mcuda\u001b[39m\u001b[39m'\u001b[39m)\n\u001b[1;32m     64\u001b[0m \u001b[39mprint\u001b[39m(\u001b[39mf\u001b[39m\u001b[39m\"\u001b[39m\u001b[39minput shape: \u001b[39m\u001b[39m{\u001b[39;00m\u001b[39minput\u001b[39m\u001b[39m.\u001b[39mshape\u001b[39m}\u001b[39;00m\u001b[39m\"\u001b[39m)\n\u001b[0;32m---> 65\u001b[0m output \u001b[39m=\u001b[39m model(\u001b[39minput\u001b[39;49m,seq_len\u001b[39m=\u001b[39;49m\u001b[39m10\u001b[39;49m)\n\u001b[1;32m     66\u001b[0m target \u001b[39m=\u001b[39m torch\u001b[39m.\u001b[39mrand(\u001b[39m1\u001b[39m, \u001b[39m10\u001b[39m)\u001b[39m.\u001b[39mto(\u001b[39m'\u001b[39m\u001b[39mcuda\u001b[39m\u001b[39m'\u001b[39m)\n\u001b[1;32m     67\u001b[0m loss \u001b[39m=\u001b[39m F\u001b[39m.\u001b[39mbinary_cross_entropy_with_logits(output, target)\n",
      "File \u001b[0;32m~/.miniconda3/lib/python3.10/site-packages/torch/nn/modules/module.py:1501\u001b[0m, in \u001b[0;36mModule._call_impl\u001b[0;34m(self, *args, **kwargs)\u001b[0m\n\u001b[1;32m   1496\u001b[0m \u001b[39m# If we don't have any hooks, we want to skip the rest of the logic in\u001b[39;00m\n\u001b[1;32m   1497\u001b[0m \u001b[39m# this function, and just call forward.\u001b[39;00m\n\u001b[1;32m   1498\u001b[0m \u001b[39mif\u001b[39;00m \u001b[39mnot\u001b[39;00m (\u001b[39mself\u001b[39m\u001b[39m.\u001b[39m_backward_hooks \u001b[39mor\u001b[39;00m \u001b[39mself\u001b[39m\u001b[39m.\u001b[39m_backward_pre_hooks \u001b[39mor\u001b[39;00m \u001b[39mself\u001b[39m\u001b[39m.\u001b[39m_forward_hooks \u001b[39mor\u001b[39;00m \u001b[39mself\u001b[39m\u001b[39m.\u001b[39m_forward_pre_hooks\n\u001b[1;32m   1499\u001b[0m         \u001b[39mor\u001b[39;00m _global_backward_pre_hooks \u001b[39mor\u001b[39;00m _global_backward_hooks\n\u001b[1;32m   1500\u001b[0m         \u001b[39mor\u001b[39;00m _global_forward_hooks \u001b[39mor\u001b[39;00m _global_forward_pre_hooks):\n\u001b[0;32m-> 1501\u001b[0m     \u001b[39mreturn\u001b[39;00m forward_call(\u001b[39m*\u001b[39;49margs, \u001b[39m*\u001b[39;49m\u001b[39m*\u001b[39;49mkwargs)\n\u001b[1;32m   1502\u001b[0m \u001b[39m# Do not call functions when jit is used\u001b[39;00m\n\u001b[1;32m   1503\u001b[0m full_backward_hooks, non_full_backward_hooks \u001b[39m=\u001b[39m [], []\n",
      "Cell \u001b[0;32mIn[2], line 44\u001b[0m, in \u001b[0;36mfinetune_wavlm.forward\u001b[0;34m(self, input, seq_len)\u001b[0m\n\u001b[1;32m     42\u001b[0m output \u001b[39m=\u001b[39m \u001b[39mself\u001b[39m\u001b[39m.\u001b[39mmodel(\u001b[39minput\u001b[39m, return_dict\u001b[39m=\u001b[39m\u001b[39mTrue\u001b[39;00m)\n\u001b[1;32m     43\u001b[0m \u001b[39mprint\u001b[39m(\u001b[39m\"\u001b[39m\u001b[39moutput:\u001b[39m\u001b[39m\"\u001b[39m,  output[\u001b[39m\"\u001b[39m\u001b[39mextract_features\u001b[39m\u001b[39m\"\u001b[39m]\u001b[39m.\u001b[39mshape)\n\u001b[0;32m---> 44\u001b[0m \u001b[39mprint\u001b[39m(\u001b[39mf\u001b[39m\u001b[39m\"\u001b[39m\u001b[39mX shape: \u001b[39m\u001b[39m{\u001b[39;00mx\u001b[39m.\u001b[39mshape\u001b[39m}\u001b[39;00m\u001b[39m\"\u001b[39m)\n\u001b[1;32m     45\u001b[0m \u001b[39m# print(f\"Mask shape: {mask.shape}\")\u001b[39;00m\n\u001b[1;32m     46\u001b[0m \u001b[39m# print add padding\u001b[39;00m\n\u001b[1;32m     47\u001b[0m x \u001b[39m=\u001b[39m \u001b[39mself\u001b[39m\u001b[39m.\u001b[39madd_padding(x)\n",
      "\u001b[0;31mUnboundLocalError\u001b[0m: local variable 'x' referenced before assignment"
     ]
    }
   ],
   "source": [
    "from transformers import WavLMModel, AutoProcessor\n",
    "\n",
    "class finetune_wavlm(nn.Module):\n",
    "    def __init__(self, *args, **kwargs) -> None:\n",
    "        super().__init__(*args, **kwargs)\n",
    "        self.model = WavLMModel.from_pretrained(\"microsoft/wavlm-base-plus\")\n",
    "        self.model.train()\n",
    "        self.conv1d = nn.Conv1d(768, 512, kernel_size=17, stride=17, padding=1)\n",
    "        self.linear = nn.Linear(512, 10)\n",
    "    \n",
    "    def add_padding(self, audio_feats):\n",
    "        \"\"\"\n",
    "        Add padding to the audio_feats got from wavlm to match seq_len_after_pad along temporal dimension.\n",
    "\n",
    "        Args:\n",
    "            audio_feats (list): list of tensors of shape (1, audio_feat_dim, scene_length*(50)-1)\n",
    "            # ! for memory management you only get paths to the numpy files.\n",
    "\n",
    "        Returns:\n",
    "            dict:\n",
    "                audio_feats (list): list of tensors of shape (1, audio_feat_dim, seq_len_after_pad)\n",
    "                masks (list): list of tensors of shape (1, seq_len_after_pad)\n",
    "        \"\"\"\n",
    "        num_bins_after_pad = 150\n",
    "        seq_len_after_pad = 17*num_bins_after_pad # as we have 50 secs of audio\n",
    "        duplicated_audio_feats = []\n",
    "        for audio_feat in audio_feats:\n",
    "            for i in range(0, audio_feat.shape[0], 50):\n",
    "                dup = audio_feat[i,:].unsqueeze(0)\n",
    "                audio_feat = torch.cat((audio_feat, dup), dim=0)\n",
    "            audio_feat = audio_feat.transpose(0, 1).unsqueeze(0)\n",
    "            duplicated_audio_feats.append(audio_feat)\n",
    "        audio_feats = duplicated_audio_feats\n",
    "        # audio_feats shape is 1, 768, scene_length*(50)-1+duplicated\n",
    "        # I want to pad it to 1, 768, seq_len_after_pad\n",
    "        audio_feats = [audio_feat.squeeze(0) for audio_feat in audio_feats]\n",
    "        audio_feats = torch.stack(audio_feats)\n",
    "        return {\"audio_feats\": audio_feats}\n",
    "    \n",
    "    def forward(self, input,seq_len):\n",
    "        x, extract_feats = self.model(input, return_dict=False)\n",
    "        print(f\"X shape: {x.shape}\")\n",
    "        # print(f\"Mask shape: {mask.shape}\")\n",
    "        # print add padding\n",
    "        x = self.add_padding(x)\n",
    "        x = self.conv1d(x[\"audio_feats\"])\n",
    "        print(x.shape)\n",
    "        # do mean along temporal dimension to get 1, 512 vector. divide it by seq_len to get mean\n",
    "        denominator = torch.tensor(seq_len).to('cuda')\n",
    "        denominator[denominator == 0] = 300 # nothing in audio\n",
    "        x = torch.sum(x, dim=2)/denominator\n",
    "        x = self.linear(x)\n",
    "        return x\n",
    "\n",
    "model = finetune_wavlm().to('cuda')\n",
    "optimizer = torch.optim.Adam(model.parameters(), lr=0.0001)\n",
    "input = torch.rand(16000*10)\n",
    "# # pad the tensor to 20 seconds\n",
    "input = torch.cat((input, torch.zeros(16000*10)), dim=0)\n",
    "# processor = AutoProcessor.from_pretrained(\"patrickvonplaten/wavlm-libri-clean-100h-base-plus\")\n",
    "# input = processor(input, return_tensors=\"pt\", padding=True, sampling_rate=16000).input_values.to('cuda')\n",
    "print(f\"input shape: {input.shape}\")\n",
    "output = model(input,seq_len=10)\n",
    "target = torch.rand(1, 10).to('cuda')\n",
    "loss = F.binary_cross_entropy_with_logits(output, target)\n",
    "loss.backward()\n",
    "optimizer.step()\n",
    "print(output.shape)"
   ]
  }
 ],
 "metadata": {
  "kernelspec": {
   "display_name": "emotx",
   "language": "python",
   "name": "python3"
  },
  "language_info": {
   "codemirror_mode": {
    "name": "ipython",
    "version": 3
   },
   "file_extension": ".py",
   "mimetype": "text/x-python",
   "name": "python",
   "nbconvert_exporter": "python",
   "pygments_lexer": "ipython3",
   "version": "3.10.12"
  },
  "orig_nbformat": 4
 },
 "nbformat": 4,
 "nbformat_minor": 2
}
